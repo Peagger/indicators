{
 "cells": [
  {
   "cell_type": "code",
   "execution_count": 9,
   "metadata": {},
   "outputs": [
    {
     "data": {
      "text/html": [
       "<div>\n",
       "<style scoped>\n",
       "    .dataframe tbody tr th:only-of-type {\n",
       "        vertical-align: middle;\n",
       "    }\n",
       "\n",
       "    .dataframe tbody tr th {\n",
       "        vertical-align: top;\n",
       "    }\n",
       "\n",
       "    .dataframe thead th {\n",
       "        text-align: right;\n",
       "    }\n",
       "</style>\n",
       "<table border=\"1\" class=\"dataframe\">\n",
       "  <thead>\n",
       "    <tr style=\"text-align: right;\">\n",
       "      <th></th>\n",
       "      <th>0</th>\n",
       "      <th>1</th>\n",
       "      <th>2</th>\n",
       "      <th>3</th>\n",
       "      <th>4</th>\n",
       "      <th>5</th>\n",
       "    </tr>\n",
       "  </thead>\n",
       "  <tbody>\n",
       "    <tr>\n",
       "      <th>0</th>\n",
       "      <td>Node: 0</td>\n",
       "      <td>Time: +4s</td>\n",
       "      <td>10.1.1.25</td>\n",
       "      <td>10.1.1.25</td>\n",
       "      <td>1</td>\n",
       "      <td>1</td>\n",
       "    </tr>\n",
       "    <tr>\n",
       "      <th>1</th>\n",
       "      <td>Node: 0</td>\n",
       "      <td>Time: +4s</td>\n",
       "      <td>10.1.1.26</td>\n",
       "      <td>10.1.1.26</td>\n",
       "      <td>1</td>\n",
       "      <td>1</td>\n",
       "    </tr>\n",
       "    <tr>\n",
       "      <th>2</th>\n",
       "      <td>Node: 0</td>\n",
       "      <td>Time: +4s</td>\n",
       "      <td>10.1.1.29</td>\n",
       "      <td>10.1.1.29</td>\n",
       "      <td>1</td>\n",
       "      <td>1</td>\n",
       "    </tr>\n",
       "    <tr>\n",
       "      <th>3</th>\n",
       "      <td>Node: 0</td>\n",
       "      <td>Time: +4s</td>\n",
       "      <td>10.1.1.31</td>\n",
       "      <td>10.1.1.31</td>\n",
       "      <td>1</td>\n",
       "      <td>1</td>\n",
       "    </tr>\n",
       "    <tr>\n",
       "      <th>4</th>\n",
       "      <td>Node: 0</td>\n",
       "      <td>Time: +4s</td>\n",
       "      <td>10.1.1.33</td>\n",
       "      <td>10.1.1.33</td>\n",
       "      <td>1</td>\n",
       "      <td>1</td>\n",
       "    </tr>\n",
       "    <tr>\n",
       "      <th>...</th>\n",
       "      <td>...</td>\n",
       "      <td>...</td>\n",
       "      <td>...</td>\n",
       "      <td>...</td>\n",
       "      <td>...</td>\n",
       "      <td>...</td>\n",
       "    </tr>\n",
       "    <tr>\n",
       "      <th>24310</th>\n",
       "      <td>Node: 47</td>\n",
       "      <td>Time: +98s</td>\n",
       "      <td>10.1.1.14</td>\n",
       "      <td>10.1.1.14</td>\n",
       "      <td>1</td>\n",
       "      <td>1</td>\n",
       "    </tr>\n",
       "    <tr>\n",
       "      <th>24311</th>\n",
       "      <td>Node: 47</td>\n",
       "      <td>Time: +98s</td>\n",
       "      <td>10.1.1.17</td>\n",
       "      <td>10.1.1.17</td>\n",
       "      <td>1</td>\n",
       "      <td>1</td>\n",
       "    </tr>\n",
       "    <tr>\n",
       "      <th>24312</th>\n",
       "      <td>Node: 47</td>\n",
       "      <td>Time: +98s</td>\n",
       "      <td>10.1.1.34</td>\n",
       "      <td>10.1.1.34</td>\n",
       "      <td>1</td>\n",
       "      <td>1</td>\n",
       "    </tr>\n",
       "    <tr>\n",
       "      <th>24313</th>\n",
       "      <td>Node: 48</td>\n",
       "      <td>Time: +98s</td>\n",
       "      <td>10.1.1.46</td>\n",
       "      <td>10.1.1.46</td>\n",
       "      <td>1</td>\n",
       "      <td>1</td>\n",
       "    </tr>\n",
       "    <tr>\n",
       "      <th>24314</th>\n",
       "      <td>Node: 49</td>\n",
       "      <td>Time: +98s</td>\n",
       "      <td>10.1.1.7</td>\n",
       "      <td>10.1.1.7</td>\n",
       "      <td>1</td>\n",
       "      <td>1</td>\n",
       "    </tr>\n",
       "  </tbody>\n",
       "</table>\n",
       "<p>24315 rows × 6 columns</p>\n",
       "</div>"
      ],
      "text/plain": [
       "              0            1          2           3  4  5\n",
       "0       Node: 0    Time: +4s  10.1.1.25   10.1.1.25  1  1\n",
       "1       Node: 0    Time: +4s  10.1.1.26   10.1.1.26  1  1\n",
       "2       Node: 0    Time: +4s  10.1.1.29   10.1.1.29  1  1\n",
       "3       Node: 0    Time: +4s  10.1.1.31   10.1.1.31  1  1\n",
       "4       Node: 0    Time: +4s  10.1.1.33   10.1.1.33  1  1\n",
       "...         ...          ...        ...         ... .. ..\n",
       "24310  Node: 47   Time: +98s  10.1.1.14   10.1.1.14  1  1\n",
       "24311  Node: 47   Time: +98s  10.1.1.17   10.1.1.17  1  1\n",
       "24312  Node: 47   Time: +98s  10.1.1.34   10.1.1.34  1  1\n",
       "24313  Node: 48   Time: +98s  10.1.1.46   10.1.1.46  1  1\n",
       "24314  Node: 49   Time: +98s   10.1.1.7    10.1.1.7  1  1\n",
       "\n",
       "[24315 rows x 6 columns]"
      ]
     },
     "execution_count": 9,
     "metadata": {},
     "output_type": "execute_result"
    }
   ],
   "source": [
    "import pandas as pd\n",
    "df = pd.read_csv('../Data/output.csv', header = None)\n",
    "df"
   ]
  },
  {
   "cell_type": "code",
   "execution_count": 12,
   "metadata": {
    "scrolled": true
   },
   "outputs": [
    {
     "data": {
      "text/plain": [
       "{1: [25, 26, 29, 31, 33, 49],\n",
       " 2: [3, 10, 12, 24, 32, 37, 44],\n",
       " 3: [2, 10, 12, 24, 30, 32, 37, 44],\n",
       " 4: [14, 23],\n",
       " 5: [7, 13, 18, 21],\n",
       " 6: [7, 9, 13, 21, 46],\n",
       " 7: [5, 6, 9, 13, 18, 21],\n",
       " 8: [20, 28, 35, 41],\n",
       " 9: [6, 7, 13],\n",
       " 10: [2, 3, 24, 32, 37],\n",
       " 11: [19],\n",
       " 12: [2, 3, 17, 30, 32, 34, 37, 39, 44],\n",
       " 13: [5, 6, 7, 9, 21],\n",
       " 14: [4, 23, 34],\n",
       " 15: [25, 40],\n",
       " 16: [22, 30, 38, 42, 43],\n",
       " 17: [12, 26, 37, 39, 44, 47],\n",
       " 18: [5, 7, 21, 50],\n",
       " 19: [11],\n",
       " 20: [8, 24],\n",
       " 21: [5, 6, 7, 13, 18],\n",
       " 22: [16, 30, 38, 42],\n",
       " 23: [4, 14, 34],\n",
       " 24: [2, 3, 10, 20],\n",
       " 25: [1, 15, 29, 33, 49],\n",
       " 26: [1, 17, 29, 31, 33, 47, 49],\n",
       " 27: [48],\n",
       " 28: [8, 35, 41],\n",
       " 29: [1, 25, 26, 31, 33, 49],\n",
       " 30: [3, 12, 16, 22, 32, 38],\n",
       " 31: [1, 26, 29, 47, 49],\n",
       " 32: [2, 3, 10, 12, 30, 37, 38, 44],\n",
       " 33: [1, 25, 26, 29, 34, 49],\n",
       " 34: [12, 14, 23, 33],\n",
       " 35: [8, 28, 41],\n",
       " 37: [2, 3, 10, 12, 17, 32, 39, 44],\n",
       " 38: [16, 22, 30, 32, 42],\n",
       " 39: [12, 17, 37, 44, 47],\n",
       " 40: [15],\n",
       " 41: [8, 28, 35],\n",
       " 42: [16, 22, 38, 43, 45],\n",
       " 43: [16, 22, 42, 45],\n",
       " 44: [2, 3, 12, 17, 32, 37, 39],\n",
       " 45: [42, 43],\n",
       " 46: [6],\n",
       " 47: [17, 26, 31, 39, 49],\n",
       " 48: [27],\n",
       " 49: [1, 25, 26, 29, 31, 33, 47],\n",
       " 50: [18]}"
      ]
     },
     "execution_count": 12,
     "metadata": {},
     "output_type": "execute_result"
    }
   ],
   "source": [
    "dic = {}\n",
    "for index in range(df.shape[0]):\n",
    "    t = eval(df[1][index][8: -1])\n",
    "    startNode = eval(df[0][index][6:]) + 1\n",
    "    nextNode = eval(df[3][index][8:])\n",
    "    nowDistance = df[5][index]\n",
    "    dic.setdefault(t, {}).setdefault(startNode, []).append(nextNode)\n",
    "dic[4]"
   ]
  },
  {
   "cell_type": "code",
   "execution_count": 6,
   "metadata": {},
   "outputs": [
    {
     "name": "stdout",
     "output_type": "stream",
     "text": [
      "[0.06311423676855107, 0.0813953488372093, 0.11097957975732466, 0.11429877700308606, 0.11946479770627588, 0.12500520855035627, 0.13477694415741948, 0.137557888944931, 0.19985694450288216, 0.20677346334668292, 0.2110923473469025, 0.2227745990057218, 0.28561436232221965, 0.2891196601368893, 0.28959810874704495, 0.3356164383561644, 0.3548153511947864, 0.3772713273791192, 0.38049386550706626, 0.38637438889765013, 0.38839568801521873, 0.3893833439287984, 0.4022328024954852, 0.4110738255033557, 0.4175187457396046, 0.43309174474102885, 0.43309174474102885, 0.4350914580003552, 0.44945881489634937, 0.4532001479837218, 0.4595760645282311, 0.46348846008323874, 0.4654255319148936, 0.46997889890657973, 0.4709727028066128, 0.4745303118342049, 0.4792644757433489, 0.48152515723270434, 0.4843811783313563, 0.48756218905472637, 0.48882681564245806, 0.4917703733440385, 0.4917703733440385, 0.4929577464788733, 0.4943502824858757, 0.49595141700404854, 0.5051546391752577, 0.5053630363036303]\n"
     ]
    }
   ],
   "source": [
    "import networkx as nx\n",
    "import networkx.algorithms.components as com\n",
    "G = nx.MultiDiGraph()\n",
    "G.add_nodes_from(range(1, 51))\n",
    "n = G.number_of_nodes()\n",
    "C = []\n",
    "for t in dic:\n",
    "    for startV in dic[t]:\n",
    "        for endV in dic[t][startV]:\n",
    "            keys = G.add_edge(startV, endV)\n",
    "    w = com.number_weakly_connected_components(G)\n",
    "    #print(w)\n",
    "    sum = 0\n",
    "    for index in com.weakly_connected_components(G):\n",
    "        subG = G.subgraph(index)\n",
    "        subN = subG.number_of_nodes()\n",
    "        #print('subG\\'s number:', subG.number_of_nodes())\n",
    "        averShortestLenOfSubG = nx.average_shortest_path_length(subG)\n",
    "        #print(averShortestLenOfSubG)\n",
    "        sum += averShortestLenOfSubG * subN\n",
    "    C.append(n / (w * sum))\n",
    "print(C)"
   ]
  },
  {
   "cell_type": "markdown",
   "metadata": {},
   "source": [
    "## 连通系数\n",
    "\n",
    "$$\n",
    "C = \\cfrac{1}{\\omega \\sum_{i = 1}^{\\omega} \\cfrac{N_i}{N} l_i}\n",
    "$$\n",
    "\n",
    " $C$ 为网络的连通系数，其中 $ω$ 为网络**连通分支数**， $N_i$为第 $i$ 个**连通分支中节点数目**， $N$ 为网络中**节点总数目**， $l_i$ 为第 $i$ 个**连通分支的平均最短路径**，**即该连通分支中任意两个节点之间最短连接距离的平均值**"
   ]
  },
  {
   "cell_type": "code",
   "execution_count": 13,
   "metadata": {},
   "outputs": [
    {
     "data": {
      "image/png": "[encoded data removed]",
      "text/plain": [
       "<Figure size 432x288 with 1 Axes>"
      ]
     },
     "metadata": {
      "needs_background": "light"
     },
     "output_type": "display_data"
    }
   ],
   "source": [
    "import matplotlib.pyplot as plt\n",
    "x_time = []\n",
    "for i in range(4, 100, 2):\n",
    "    x_time.append(i)\n",
    "plt.plot(x_time, C, color = 'red', label = 'connectivityCoefficient')\n",
    "\n",
    "plt.show()"
   ]
  },
  {
   "cell_type": "code",
   "execution_count": 14,
   "metadata": {},
   "outputs": [
    {
     "data": {
      "image/png": "[encoded data removed]",
      "text/plain": [
       "<Figure size 432x288 with 1 Axes>"
      ]
     },
     "metadata": {
      "needs_background": "light"
     },
     "output_type": "display_data"
    }
   ],
   "source": [
    "x_time = []\n",
    "for i in range(6, 100, 2):\n",
    "    x_time.append(i)\n",
    "cmp = []\n",
    "for i in range(0, 47):\n",
    "    cmp.append(C[i + 1]/C[i])\n",
    "plt.plot(x_time,cmp,color = 'blue', label = 'compare')\n",
    "\n",
    "plt.show()"
   ]
  },
  {
   "cell_type": "code",
   "execution_count": null,
   "metadata": {},
   "outputs": [],
   "source": []
  }
 ],
 "metadata": {
  "kernelspec": {
   "display_name": "Python 3",
   "language": "python",
   "name": "python3"
  },
  "language_info": {
   "codemirror_mode": {
    "name": "ipython",
    "version": 3
   },
   "file_extension": ".py",
   "mimetype": "text/x-python",
   "name": "python",
   "nbconvert_exporter": "python",
   "pygments_lexer": "ipython3",
   "version": "3.7.2"
  }
 },
 "nbformat": 4,
 "nbformat_minor": 4
}
